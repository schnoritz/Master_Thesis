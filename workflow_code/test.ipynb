{
 "cells": [
  {
   "cell_type": "code",
   "execution_count": null,
   "metadata": {},
   "outputs": [],
   "source": [
    "import pandas as pd\n",
    "import numpy as np\n",
    "import matplotlib.pyplot as plt\n",
    "import scipy.stats as ss\n"
   ]
  },
  {
   "cell_type": "code",
   "execution_count": null,
   "metadata": {},
   "outputs": [],
   "source": [
    "df = pd.read_pickle(\"/Users/simongutwein/mnt/qb/baumgartner/sgutwein84/test_case_results.pkl\")\n",
    "with pd.option_context('display.max_rows', None, 'display.max_columns', None):  # more options can be specified also\n",
    "    print(df)\n"
   ]
  },
  {
   "cell_type": "code",
   "execution_count": null,
   "metadata": {},
   "outputs": [],
   "source": [
    "entities = [\"pt\", \"lt\", \"mt\", \"ht\", \"nt\"]\n",
    "\n",
    "for enti in entities:\n",
    "\n",
    "    df = pd.read_pickle(\"/Users/simongutwein/mnt/qb/baumgartner/sgutwein84/test_case_results.pkl\")\n",
    "    df_tmp = df[df[\"plan\"].str.contains(enti)]\n",
    "    df_tmp = df_tmp[df[\"model\"].str.contains(\"prost\")]\n",
    "\n",
    "    #print(enti)\n",
    "    #print(df_tmp.head())\n",
    "    print(enti, f\"n={df_tmp.count()[0]}\",np.round(df_tmp[\"gamma\"].mean(), 2), \"±\", np.round(df_tmp[\"gamma\"].std(), 2), \"(\", np.round(df_tmp[\"gamma\"].median(), 2), \")\")\n"
   ]
  },
  {
   "cell_type": "code",
   "execution_count": null,
   "metadata": {},
   "outputs": [],
   "source": [
    "df_train = pd.read_excel(\"/Users/simongutwein/home/baumgartner/sgutwein84/container/segments.xlsx\", index_col=0)\n",
    "df_test = pd.read_excel(\"/Users/simongutwein/home/baumgartner/sgutwein84/container/segments_tests.xlsx\", index_col=0)"
   ]
  },
  {
   "cell_type": "code",
   "execution_count": null,
   "metadata": {},
   "outputs": [],
   "source": [
    "df_train['fieldsize'] = df_train['fieldsize'].map(lambda x: x.lstrip('tensor(').rstrip(')'))\n",
    "df_test['fieldsize'] = df_test['fieldsize'].map(lambda x: x.lstrip('tensor(').rstrip(')'))"
   ]
  },
  {
   "cell_type": "code",
   "execution_count": null,
   "metadata": {},
   "outputs": [],
   "source": [
    "cases = [\"p\", \"h\", \"l\", \"m\", \"n\"]\n",
    "cases_num = [45,15,15,15,15]\n"
   ]
  },
  {
   "cell_type": "code",
   "execution_count": null,
   "metadata": {},
   "outputs": [],
   "source": [
    "np.array(df_train[df_train['test_case'].str.match(\"pt\")][\"value\"]).astype(float).mean()\n"
   ]
  },
  {
   "cell_type": "code",
   "execution_count": null,
   "metadata": {},
   "outputs": [],
   "source": [
    "infos = []\n",
    "for case, num in zip(cases, cases_num):\n",
    "\n",
    "    if case == \"p\":\n",
    "        \n",
    "        infos.append({\n",
    "            \"case\": case,\n",
    "            \"cases_num\": num,\n",
    "            \"train\": df_train[df_train['test_case'].str.match(case)].count()[0],\n",
    "            \"test\": df_test[df_test['test_case'].str.match(case)].count()[0],\n",
    "            \"mean_train\": np.array(df_train[df_train['test_case'].str.match(case)][\"fieldsize\"]).astype(float).mean(),\n",
    "            \"std_train\": np.array(df_train[df_train['test_case'].str.match(case)][\"fieldsize\"]).astype(float).std(),\n",
    "            \"mean_test\": np.array(df_test[df_test['test_case'].str.match(case)][\"fieldsize\"]).astype(float).mean(),\n",
    "            \"std_test\": np.array(df_test[df_test['test_case'].str.match(case)][\"fieldsize\"]).astype(float).std(),\n",
    "        })\n",
    "    else:\n",
    "        infos.append({\n",
    "            \"case\": case,\n",
    "            \"cases_num\": num,\n",
    "            \"train\": df_train[df_train['test_case'].str.match(case)].count()[0],\n",
    "            \"test\": df_test[df_test['test_case'].str.match(case)].count()[0],\n",
    "            \"mean_train\": np.array(df_train[df_train['test_case'].str.match(case)][\"fieldsize\"]).astype(float).mean(),\n",
    "            \"mean_test\": np.array(df_test[df_test['test_case'].str.match(case)][\"fieldsize\"]).astype(float).mean(),\n",
    "            \"std_train\": np.array(df_train[df_train['test_case'].str.match(case)][\"fieldsize\"]).astype(float).std(),\n",
    "            \"std_test\": np.array(df_test[df_test['test_case'].str.match(case)][\"fieldsize\"]).astype(float).std(),\n",
    "        })\n",
    "\n",
    "df = pd.DataFrame(infos)\n",
    "df\n",
    "\n",
    "\n"
   ]
  },
  {
   "cell_type": "markdown",
   "metadata": {},
   "source": []
  }
 ],
 "metadata": {
  "interpreter": {
   "hash": "bbee7842ce8ba476870a006d5d5b68f11cea175afb0fea017b7f81beccf88892"
  },
  "kernelspec": {
   "display_name": "Python 3.9.7 64-bit",
   "name": "python3"
  },
  "language_info": {
   "codemirror_mode": {
    "name": "ipython",
    "version": 3
   },
   "file_extension": ".py",
   "mimetype": "text/x-python",
   "name": "python",
   "nbconvert_exporter": "python",
   "pygments_lexer": "ipython3",
   "version": "3.9.7"
  },
  "orig_nbformat": 2
 },
 "nbformat": 4,
 "nbformat_minor": 2
}
