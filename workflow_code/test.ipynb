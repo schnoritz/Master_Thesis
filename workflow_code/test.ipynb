{
 "cells": [
  {
   "cell_type": "code",
   "execution_count": 103,
   "metadata": {},
   "outputs": [],
   "source": [
    "import pandas as pd\n",
    "import numpy as np\n",
    "import matplotlib.pyplot as plt\n",
    "import scipy.stats as ss\n"
   ]
  },
  {
   "cell_type": "code",
   "execution_count": 104,
   "metadata": {},
   "outputs": [
    {
     "name": "stdout",
     "output_type": "stream",
     "text": [
      "Prostate 1.0\n",
      "Mixed 6e-05\n",
      "Lymphnodes 0.00116\n"
     ]
    }
   ],
   "source": [
    "df = pd.read_pickle(\"/Users/simongutwein/mnt/qb/baumgartner/sgutwein84/test_case_results.pkl\")\n",
    "df.loc[df.model == \"mixed_trained_UNET_1183.pt\", \"model\"] = \"B\"\n",
    "df.loc[df.model == \"prostate_trained_UNET_2234.pt\", \"model\"] = \"A\"\n",
    "\n",
    "cases = [\"Prostate\", \"Mixed\", \"Lymphnodes\"]\n",
    "\n",
    "for case in cases:\n",
    "    df_tmp = df[df['test_modularity'].str.match(case)]\n",
    "\n",
    "    print(case, np.round(ss.wilcoxon(df_tmp[df_tmp['model'].str.match(\"A\")][\"gamma\"], df_tmp[df_tmp['model'].str.match(\"B\")][\"gamma\"])[1],5))\n",
    "\n"
   ]
  },
  {
   "cell_type": "markdown",
   "metadata": {},
   "source": []
  },
  {
   "cell_type": "code",
   "execution_count": 105,
   "metadata": {},
   "outputs": [
    {
     "data": {
      "text/html": [
       "<div>\n",
       "<style scoped>\n",
       "    .dataframe tbody tr th:only-of-type {\n",
       "        vertical-align: middle;\n",
       "    }\n",
       "\n",
       "    .dataframe tbody tr th {\n",
       "        vertical-align: top;\n",
       "    }\n",
       "\n",
       "    .dataframe thead th {\n",
       "        text-align: right;\n",
       "    }\n",
       "</style>\n",
       "<table border=\"1\" class=\"dataframe\">\n",
       "  <thead>\n",
       "    <tr style=\"text-align: right;\">\n",
       "      <th></th>\n",
       "      <th>test_case</th>\n",
       "      <th>fieldsize</th>\n",
       "    </tr>\n",
       "  </thead>\n",
       "  <tbody>\n",
       "    <tr>\n",
       "      <th>0</th>\n",
       "      <td>p0_0</td>\n",
       "      <td>tensor(66.3105)</td>\n",
       "    </tr>\n",
       "    <tr>\n",
       "      <th>1</th>\n",
       "      <td>p0_1</td>\n",
       "      <td>tensor(46.2990)</td>\n",
       "    </tr>\n",
       "    <tr>\n",
       "      <th>2</th>\n",
       "      <td>p0_10</td>\n",
       "      <td>tensor(26.0326)</td>\n",
       "    </tr>\n",
       "    <tr>\n",
       "      <th>3</th>\n",
       "      <td>p0_11</td>\n",
       "      <td>tensor(60.4884)</td>\n",
       "    </tr>\n",
       "    <tr>\n",
       "      <th>4</th>\n",
       "      <td>p0_12</td>\n",
       "      <td>tensor(53.2269)</td>\n",
       "    </tr>\n",
       "    <tr>\n",
       "      <th>...</th>\n",
       "      <td>...</td>\n",
       "      <td>...</td>\n",
       "    </tr>\n",
       "    <tr>\n",
       "      <th>3365</th>\n",
       "      <td>h9_5</td>\n",
       "      <td>tensor(108.5390)</td>\n",
       "    </tr>\n",
       "    <tr>\n",
       "      <th>3366</th>\n",
       "      <td>h9_6</td>\n",
       "      <td>tensor(88.4404)</td>\n",
       "    </tr>\n",
       "    <tr>\n",
       "      <th>3367</th>\n",
       "      <td>h9_7</td>\n",
       "      <td>tensor(6.1126)</td>\n",
       "    </tr>\n",
       "    <tr>\n",
       "      <th>3368</th>\n",
       "      <td>h9_8</td>\n",
       "      <td>tensor(25.9148)</td>\n",
       "    </tr>\n",
       "    <tr>\n",
       "      <th>3369</th>\n",
       "      <td>h9_9</td>\n",
       "      <td>tensor(103.2372)</td>\n",
       "    </tr>\n",
       "  </tbody>\n",
       "</table>\n",
       "<p>3370 rows × 2 columns</p>\n",
       "</div>"
      ],
      "text/plain": [
       "     test_case         fieldsize\n",
       "0         p0_0   tensor(66.3105)\n",
       "1         p0_1   tensor(46.2990)\n",
       "2        p0_10   tensor(26.0326)\n",
       "3        p0_11   tensor(60.4884)\n",
       "4        p0_12   tensor(53.2269)\n",
       "...        ...               ...\n",
       "3365      h9_5  tensor(108.5390)\n",
       "3366      h9_6   tensor(88.4404)\n",
       "3367      h9_7    tensor(6.1126)\n",
       "3368      h9_8   tensor(25.9148)\n",
       "3369      h9_9  tensor(103.2372)\n",
       "\n",
       "[3370 rows x 2 columns]"
      ]
     },
     "execution_count": 105,
     "metadata": {},
     "output_type": "execute_result"
    }
   ],
   "source": [
    "df_train = pd.read_excel(\"/Users/simongutwein/home/baumgartner/sgutwein84/container/segments.xlsx\", index_col=0)\n",
    "df_test = pd.read_excel(\"/Users/simongutwein/home/baumgartner/sgutwein84/container/segments_tests.xlsx\", index_col=0)\n",
    "df_train"
   ]
  },
  {
   "cell_type": "code",
   "execution_count": 106,
   "metadata": {},
   "outputs": [],
   "source": [
    "df_train['fieldsize'] = df_train['fieldsize'].map(lambda x: x.lstrip('tensor(').rstrip(')'))\n",
    "df_test['fieldsize'] = df_test['fieldsize'].map(lambda x: x.lstrip('tensor(').rstrip(')'))"
   ]
  },
  {
   "cell_type": "code",
   "execution_count": 116,
   "metadata": {},
   "outputs": [],
   "source": [
    "cases = [\"p\", \"h\", \"l\", \"m\", \"n\"]\n",
    "cases_num = [45,15,15,15,15]"
   ]
  },
  {
   "cell_type": "markdown",
   "metadata": {},
   "source": [
    "np.array(df_train[df_train['test_case'].str.match(\"h\")][\"fieldsize\"]).astype(float).mean()\n"
   ]
  },
  {
   "cell_type": "code",
   "execution_count": 150,
   "metadata": {},
   "outputs": [
    {
     "name": "stdout",
     "output_type": "stream",
     "text": [
      "{'case': 'p_mix', 'cases_num': 414, 'mean_train': 35.491454830917874, 'std_train': 18.01637546766946}\n"
     ]
    }
   ],
   "source": [
    "cases_mix = [f\"p{x}_\" for x in range(10)]\n",
    "df_mix = pd.DataFrame()\n",
    "\n",
    "for case in cases_mix:\n",
    "    df_mix = df_mix.append(df_train[df_train['test_case'].str.contains(case)], ignore_index=True)\n",
    "\n",
    "\n",
    "infos = {\n",
    "    \"case\": \"p_mix\",\n",
    "    \"cases_num\": df_mix.count()[0],\n",
    "    \"mean_train\": np.array(df_mix[\"fieldsize\"]).astype(float).mean(),\n",
    "    \"std_train\": np.array(df_mix[\"fieldsize\"]).astype(float).std(),\n",
    "}\n",
    "\n",
    "print(infos)"
   ]
  },
  {
   "cell_type": "code",
   "execution_count": 113,
   "metadata": {},
   "outputs": [
    {
     "name": "stderr",
     "output_type": "stream",
     "text": [
      "<ipython-input-113-7a720ebbbe23>:22: RuntimeWarning: Mean of empty slice.\n",
      "  \"mean_train\": np.array(df_train[df_train['test_case'].str.match(case)][\"fieldsize\"]).astype(float).mean(),\n",
      "/usr/local/lib/python3.9/site-packages/numpy/core/_methods.py:188: RuntimeWarning: invalid value encountered in double_scalars\n",
      "  ret = ret.dtype.type(ret / rcount)\n",
      "/usr/local/lib/python3.9/site-packages/numpy/core/_methods.py:261: RuntimeWarning: Degrees of freedom <= 0 for slice\n",
      "  ret = _var(a, axis=axis, dtype=dtype, out=out, ddof=ddof,\n",
      "/usr/local/lib/python3.9/site-packages/numpy/core/_methods.py:221: RuntimeWarning: invalid value encountered in true_divide\n",
      "  arrmean = um.true_divide(arrmean, div, out=arrmean, casting='unsafe',\n",
      "/usr/local/lib/python3.9/site-packages/numpy/core/_methods.py:253: RuntimeWarning: invalid value encountered in double_scalars\n",
      "  ret = ret.dtype.type(ret / rcount)\n"
     ]
    },
    {
     "data": {
      "text/html": [
       "<div>\n",
       "<style scoped>\n",
       "    .dataframe tbody tr th:only-of-type {\n",
       "        vertical-align: middle;\n",
       "    }\n",
       "\n",
       "    .dataframe tbody tr th {\n",
       "        vertical-align: top;\n",
       "    }\n",
       "\n",
       "    .dataframe thead th {\n",
       "        text-align: right;\n",
       "    }\n",
       "</style>\n",
       "<table border=\"1\" class=\"dataframe\">\n",
       "  <thead>\n",
       "    <tr style=\"text-align: right;\">\n",
       "      <th></th>\n",
       "      <th>case</th>\n",
       "      <th>cases_num</th>\n",
       "      <th>train</th>\n",
       "      <th>test</th>\n",
       "      <th>mean_train</th>\n",
       "      <th>std_train</th>\n",
       "      <th>mean_test</th>\n",
       "      <th>std_test</th>\n",
       "    </tr>\n",
       "  </thead>\n",
       "  <tbody>\n",
       "    <tr>\n",
       "      <th>0</th>\n",
       "      <td>p</td>\n",
       "      <td>45</td>\n",
       "      <td>10</td>\n",
       "      <td>306</td>\n",
       "      <td>47.005090</td>\n",
       "      <td>17.162090</td>\n",
       "      <td>34.573556</td>\n",
       "      <td>15.860270</td>\n",
       "    </tr>\n",
       "    <tr>\n",
       "      <th>1</th>\n",
       "      <td>h</td>\n",
       "      <td>15</td>\n",
       "      <td>550</td>\n",
       "      <td>379</td>\n",
       "      <td>63.009452</td>\n",
       "      <td>50.474623</td>\n",
       "      <td>68.890691</td>\n",
       "      <td>53.561800</td>\n",
       "    </tr>\n",
       "    <tr>\n",
       "      <th>2</th>\n",
       "      <td>l</td>\n",
       "      <td>15</td>\n",
       "      <td>547</td>\n",
       "      <td>272</td>\n",
       "      <td>24.097560</td>\n",
       "      <td>18.362432</td>\n",
       "      <td>22.816142</td>\n",
       "      <td>14.475376</td>\n",
       "    </tr>\n",
       "    <tr>\n",
       "      <th>3</th>\n",
       "      <td>m</td>\n",
       "      <td>15</td>\n",
       "      <td>237</td>\n",
       "      <td>419</td>\n",
       "      <td>40.720054</td>\n",
       "      <td>28.480739</td>\n",
       "      <td>40.600317</td>\n",
       "      <td>37.980044</td>\n",
       "    </tr>\n",
       "    <tr>\n",
       "      <th>4</th>\n",
       "      <td>n</td>\n",
       "      <td>15</td>\n",
       "      <td>0</td>\n",
       "      <td>659</td>\n",
       "      <td>NaN</td>\n",
       "      <td>NaN</td>\n",
       "      <td>25.952593</td>\n",
       "      <td>25.598072</td>\n",
       "    </tr>\n",
       "  </tbody>\n",
       "</table>\n",
       "</div>"
      ],
      "text/plain": [
       "  case  cases_num  train  test  mean_train  std_train  mean_test   std_test\n",
       "0    p         45     10   306   47.005090  17.162090  34.573556  15.860270\n",
       "1    h         15    550   379   63.009452  50.474623  68.890691  53.561800\n",
       "2    l         15    547   272   24.097560  18.362432  22.816142  14.475376\n",
       "3    m         15    237   419   40.720054  28.480739  40.600317  37.980044\n",
       "4    n         15      0   659         NaN        NaN  25.952593  25.598072"
      ]
     },
     "execution_count": 113,
     "metadata": {},
     "output_type": "execute_result"
    }
   ],
   "source": [
    "infos = []\n",
    "for case, num in zip(cases, cases_num):\n",
    "\n",
    "    if case == \"p\":\n",
    "        \n",
    "        infos.append({\n",
    "            \"case\": case,\n",
    "            \"cases_num\": num,\n",
    "            \"train\": df_train[df_train['test_case'].str.match(case)].count()[0],\n",
    "            \"test\": df_test[df_test['test_case'].str.match(case)].count()[0],\n",
    "            \"mean_train\": np.array(df_train[df_train['test_case'].str.match(case)][\"fieldsize\"]).astype(float).mean(),\n",
    "            \"std_train\": np.array(df_train[df_train['test_case'].str.match(case)][\"fieldsize\"]).astype(float).std(),\n",
    "            \"mean_test\": np.array(df_test[df_test['test_case'].str.match(case)][\"fieldsize\"]).astype(float).mean(),\n",
    "            \"std_test\": np.array(df_test[df_test['test_case'].str.match(case)][\"fieldsize\"]).astype(float).std(),\n",
    "        })\n",
    "    else:\n",
    "        infos.append({\n",
    "            \"case\": case,\n",
    "            \"cases_num\": num,\n",
    "            \"train\": df_train[df_train['test_case'].str.match(case)].count()[0],\n",
    "            \"test\": df_test[df_test['test_case'].str.match(case)].count()[0],\n",
    "            \"mean_train\": np.array(df_train[df_train['test_case'].str.match(case)][\"fieldsize\"]).astype(float).mean(),\n",
    "            \"mean_test\": np.array(df_test[df_test['test_case'].str.match(case)][\"fieldsize\"]).astype(float).mean(),\n",
    "            \"std_train\": np.array(df_train[df_train['test_case'].str.match(case)][\"fieldsize\"]).astype(float).std(),\n",
    "            \"std_test\": np.array(df_test[df_test['test_case'].str.match(case)][\"fieldsize\"]).astype(float).std(),\n",
    "        })\n",
    "\n",
    "df = pd.DataFrame(infos)\n",
    "df\n",
    "\n",
    "\n"
   ]
  }
 ],
 "metadata": {
  "interpreter": {
   "hash": "bbee7842ce8ba476870a006d5d5b68f11cea175afb0fea017b7f81beccf88892"
  },
  "kernelspec": {
   "display_name": "Python 3.9.2 64-bit",
   "name": "python3"
  },
  "language_info": {
   "codemirror_mode": {
    "name": "ipython",
    "version": 3
   },
   "file_extension": ".py",
   "mimetype": "text/x-python",
   "name": "python",
   "nbconvert_exporter": "python",
   "pygments_lexer": "ipython3",
   "version": "3.9.7"
  },
  "orig_nbformat": 2
 },
 "nbformat": 4,
 "nbformat_minor": 2
}
